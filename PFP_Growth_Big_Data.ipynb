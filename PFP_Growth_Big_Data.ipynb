{
  "nbformat": 4,
  "nbformat_minor": 0,
  "metadata": {
    "colab": {
      "provenance": []
    },
    "kernelspec": {
      "name": "python3",
      "display_name": "Python 3"
    },
    "language_info": {
      "name": "python"
    }
  },
  "cells": [
    {
      "cell_type": "code",
      "source": [
        "!pip install --quiet mrjob==0.7.4"
      ],
      "metadata": {
        "id": "904LMo5N0K57"
      },
      "execution_count": 26,
      "outputs": []
    },
    {
      "cell_type": "code",
      "source": [
        "from google.colab import drive\n",
        "drive.mount(\"/content/gdrive\")"
      ],
      "metadata": {
        "colab": {
          "base_uri": "https://localhost:8080/"
        },
        "id": "iZ_OUMCR0O5K",
        "outputId": "81eaa0df-1f57-460e-9d3c-4429fb9fd41c"
      },
      "execution_count": 27,
      "outputs": [
        {
          "output_type": "stream",
          "name": "stdout",
          "text": [
            "Drive already mounted at /content/gdrive; to attempt to forcibly remount, call drive.mount(\"/content/gdrive\", force_remount=True).\n"
          ]
        }
      ]
    },
    {
      "cell_type": "code",
      "execution_count": 32,
      "metadata": {
        "colab": {
          "base_uri": "https://localhost:8080/"
        },
        "id": "HssNdpGy0AGM",
        "outputId": "b40a998c-d289-454d-de23-305f58c7cd66"
      },
      "outputs": [
        {
          "output_type": "stream",
          "name": "stdout",
          "text": [
            "Overwriting PFP2.py\n"
          ]
        }
      ],
      "source": [
        "%%file PFP2.py\n",
        "from mrjob.job import MRJob\n",
        "from mrjob.step import MRStep\n",
        "\n",
        "min_support=5\n",
        "\n",
        "class MRFPGrowth(MRJob):\n",
        "    def steps(self):\n",
        "        return [\n",
        "            MRStep(mapper=self.map_transactions,\n",
        "                   reducer=self.reduce_transactions),\n",
        "            MRStep(mapper=self.map_frequent_itemsets\n",
        "            ,\n",
        "                   reducer=self.reduce_frequent_itemsets)\n",
        "        ]\n",
        "\n",
        "    def map_transactions(self, _, line):\n",
        "        # Split the line into a list of items\n",
        "        items = line.split()\n",
        "        # Emit each item with a count of 1\n",
        "        for item in items:\n",
        "            yield item, 1\n",
        "\n",
        "    def reduce_transactions(self, item, counts):\n",
        "        # Sum the counts to get the total frequency of the item\n",
        "        yield item, sum(counts)\n",
        "\n",
        "    def map_frequent_itemsets(self, item, frequency):\n",
        "        # Only emit items with a frequency above the threshold\n",
        "        if frequency > min_support:\n",
        "            yield None, (item, frequency)\n",
        "\n",
        "    def reduce_frequent_itemsets(self, _, frequent_itemsets):\n",
        "        # Sort the frequent itemsets by frequency in descending order\n",
        "        sorted_itemsets = sorted(frequent_itemsets, reverse=True)\n",
        "        # Emit each itemset as a list\n",
        "        for itemset in sorted_itemsets:\n",
        "            yield itemset[0], itemset[1]\n",
        "\n",
        "if __name__ == '__main__':\n",
        "    MRFPGrowth.run()\n"
      ]
    },
    {
      "cell_type": "code",
      "source": [
        "!python PFP2.py \"/content/gdrive/MyDrive/DataSetA (1).csv\""
      ],
      "metadata": {
        "colab": {
          "base_uri": "https://localhost:8080/"
        },
        "id": "OuIMUkzo0GRH",
        "outputId": "f22c7492-d30f-44a6-e746-42e42fb0be4c"
      },
      "execution_count": 33,
      "outputs": [
        {
          "output_type": "stream",
          "name": "stdout",
          "text": [
            "No configs found; falling back on auto-configuration\n",
            "No configs specified for inline runner\n",
            "Creating temp directory /tmp/PFP2.root.20221217.205823.699592\n",
            "Running step 1 of 2...\n",
            "Running step 2 of 2...\n",
            "job output is in /tmp/PFP2.root.20221217.205823.699592/output\n",
            "Streaming final output from /tmp/PFP2.root.20221217.205823.699592/output...\n",
            "\"Yougurt,TeaPowder,Butter,,,,,,,,\"\t8\n",
            "\"Yougurt,TeaPowder,,,,,,,,,\"\t12\n",
            "\"Yougurt,Sweet,,,,,,,,,\"\t12\n",
            "\"Yougurt,Sugar,,,,,,,,,\"\t10\n",
            "\"Yougurt,Panner,,,,,,,,,\"\t13\n",
            "\"Yougurt,Milk,,,,,,,,,\"\t10\n",
            "\"Yougurt,Lassi,,,,,,,,,\"\t14\n",
            "\"Yougurt,Butter,,,,,,,,,\"\t8\n",
            "\"Yougurt,Bread,,,,,,,,,\"\t13\n",
            "\"TeaPowder,Yougurt,,,,,,,,,\"\t12\n",
            "\"TeaPowder,Sweet,,,,,,,,,\"\t14\n",
            "\"TeaPowder,Sugar,,,,,,,,,\"\t7\n",
            "\"TeaPowder,Panner,,,,,,,,,\"\t7\n",
            "\"TeaPowder,Milk,,,,,,,,,\"\t12\n",
            "\"TeaPowder,Lassi,,,,,,,,,\"\t10\n",
            "\"TeaPowder,Ghee,,,,,,,,,\"\t12\n",
            "\"TeaPowder,CoffeePowder,,,,,,,,,\"\t14\n",
            "\"TeaPowder,Cheese,,,,,,,,,\"\t10\n",
            "\"TeaPowder,Butter,,,,,,,,,\"\t11\n",
            "\"TeaPowder,Bread,,,,,,,,,\"\t12\n",
            "\"Sweet,Yougurt,,,,,,,,,\"\t7\n",
            "\"Sweet,TeaPowder,,,,,,,,,\"\t12\n",
            "\"Sweet,Sugar,,,,,,,,,\"\t8\n",
            "\"Sweet,Panner,,,,,,,,,\"\t9\n",
            "\"Sweet,Milk,,,,,,,,,\"\t14\n",
            "\"Sweet,Lassi,,,,,,,,,\"\t6\n",
            "\"Sweet,Ghee,,,,,,,,,\"\t10\n",
            "\"Sweet,CoffeePowder,,,,,,,,,\"\t8\n",
            "\"Sweet,Cheese,,,,,,,,,\"\t7\n",
            "\"Sweet,Butter,,,,,,,,,\"\t16\n",
            "\"Sweet,Bread,,,,,,,,,\"\t12\n",
            "\"Sugar,Yougurt,,,,,,,,,\"\t11\n",
            "\"Sugar,TeaPowder,,,,,,,,,\"\t14\n",
            "\"Sugar,Sweet,,,,,,,,,\"\t6\n",
            "\"Sugar,Panner,,,,,,,,,\"\t9\n",
            "\"Sugar,Lassi,,,,,,,,,\"\t9\n",
            "\"Sugar,Ghee,,,,,,,,,\"\t14\n",
            "\"Sugar,CoffeePowder,,,,,,,,,\"\t11\n",
            "\"Sugar,Cheese,,,,,,,,,\"\t14\n",
            "\"Sugar,Butter,,,,,,,,,\"\t12\n",
            "\"Sugar,Bread,,,,,,,,,\"\t17\n",
            "\"Panner,Yougurt,,,,,,,,,\"\t19\n",
            "\"Panner,TeaPowder,,,,,,,,,\"\t15\n",
            "\"Panner,Sweet,,,,,,,,,\"\t12\n",
            "\"Panner,Sugar,,,,,,,,,\"\t10\n",
            "\"Panner,Milk,,,,,,,,,\"\t17\n",
            "\"Panner,Lassi,,,,,,,,,\"\t10\n",
            "\"Panner,Ghee,,,,,,,,,\"\t21\n",
            "\"Panner,CoffeePowder,,,,,,,,,\"\t10\n",
            "\"Panner,Cheese,,,,,,,,,\"\t6\n",
            "\"Panner,Butter,,,,,,,,,\"\t6\n",
            "\"Panner,Bread,,,,,,,,,\"\t10\n",
            "\"Milk,Yougurt,,,,,,,,,\"\t18\n",
            "\"Milk,TeaPowder,,,,,,,,,\"\t6\n",
            "\"Milk,Sweet,,,,,,,,,\"\t8\n",
            "\"Milk,Sugar,,,,,,,,,\"\t12\n",
            "\"Milk,Panner,,,,,,,,,\"\t14\n",
            "\"Milk,Lassi,,,,,,,,,\"\t13\n",
            "\"Milk,Ghee,,,,,,,,,\"\t15\n",
            "\"Milk,CoffeePowder,,,,,,,,,\"\t11\n",
            "\"Milk,Cheese,,,,,,,,,\"\t14\n",
            "\"Milk,Butter,,,,,,,,,\"\t16\n",
            "\"Milk,Bread,,,,,,,,,\"\t11\n",
            "\"Lassi,Yougurt,,,,,,,,,\"\t11\n",
            "\"Lassi,TeaPowder,,,,,,,,,\"\t8\n",
            "\"Lassi,Sweet,,,,,,,,,\"\t12\n",
            "\"Lassi,Sugar,,,,,,,,,\"\t10\n",
            "\"Lassi,Panner,,,,,,,,,\"\t8\n",
            "\"Lassi,Milk,,,,,,,,,\"\t14\n",
            "\"Lassi,Ghee,,,,,,,,,\"\t8\n",
            "\"Lassi,CoffeePowder,,,,,,,,,\"\t9\n",
            "\"Lassi,Cheese,,,,,,,,,\"\t9\n",
            "\"Lassi,Butter,,,,,,,,,\"\t7\n",
            "\"Lassi,Bread,,,,,,,,,\"\t8\n",
            "\"Ghee,Yougurt,,,,,,,,,\"\t9\n",
            "\"Ghee,TeaPowder,,,,,,,,,\"\t12\n",
            "\"Ghee,Sweet,,,,,,,,,\"\t11\n",
            "\"Ghee,Sugar,,,,,,,,,\"\t8\n",
            "\"Ghee,Panner,,,,,,,,,\"\t14\n",
            "\"Ghee,Milk,,,,,,,,,\"\t11\n",
            "\"Ghee,Lassi,,,,,,,,,\"\t9\n",
            "\"Ghee,CoffeePowder,,,,,,,,,\"\t9\n",
            "\"Ghee,Cheese,,,,,,,,,\"\t16\n",
            "\"Ghee,Butter,,,,,,,,,\"\t11\n",
            "\"Ghee,Bread,,,,,,,,,\"\t12\n",
            "\"CoffeePowder,Yougurt,,,,,,,,,\"\t14\n",
            "\"CoffeePowder,TeaPowder,,,,,,,,,\"\t9\n",
            "\"CoffeePowder,Sweet,,,,,,,,,\"\t11\n",
            "\"CoffeePowder,Sugar,,,,,,,,,\"\t11\n",
            "\"CoffeePowder,Panner,,,,,,,,,\"\t8\n",
            "\"CoffeePowder,Milk,,,,,,,,,\"\t8\n",
            "\"CoffeePowder,Lassi,,,,,,,,,\"\t6\n",
            "\"CoffeePowder,Ghee,,,,,,,,,\"\t15\n",
            "\"CoffeePowder,Cheese,,,,,,,,,\"\t15\n",
            "\"CoffeePowder,Butter,Ghee,,,,,,,,\"\t7\n",
            "\"CoffeePowder,Butter,,,,,,,,,\"\t9\n",
            "\"Cheese,Yougurt,,,,,,,,,\"\t11\n",
            "\"Cheese,TeaPowder,,,,,,,,,\"\t13\n",
            "\"Cheese,Sweet,,,,,,,,,\"\t15\n",
            "\"Cheese,Sugar,,,,,,,,,\"\t9\n",
            "\"Cheese,Panner,,,,,,,,,\"\t7\n",
            "\"Cheese,Milk,,,,,,,,,\"\t8\n",
            "\"Cheese,Lassi,,,,,,,,,\"\t11\n",
            "\"Cheese,Ghee,,,,,,,,,\"\t7\n",
            "\"Cheese,CoffeePowder,,,,,,,,,\"\t11\n",
            "\"Cheese,Butter,,,,,,,,,\"\t11\n",
            "\"Cheese,Bread,,,,,,,,,\"\t12\n",
            "\"Butter,Yougurt,,,,,,,,,\"\t9\n",
            "\"Butter,TeaPowder,,,,,,,,,\"\t13\n",
            "\"Butter,Sweet,,,,,,,,,\"\t8\n",
            "\"Butter,Sugar,,,,,,,,,\"\t10\n",
            "\"Butter,Panner,,,,,,,,,\"\t8\n",
            "\"Butter,Milk,,,,,,,,,\"\t11\n",
            "\"Butter,Lassi,,,,,,,,,\"\t16\n",
            "\"Butter,Ghee,,,,,,,,,\"\t9\n",
            "\"Butter,CoffeePowder,,,,,,,,,\"\t7\n",
            "\"Butter,Cheese,,,,,,,,,\"\t8\n",
            "\"Butter,Bread,,,,,,,,,\"\t10\n",
            "\"Bread,Yougurt,,,,,,,,,\"\t10\n",
            "\"Bread,TeaPowder,,,,,,,,,\"\t12\n",
            "\"Bread,Sweet,,,,,,,,,\"\t14\n",
            "\"Bread,Sugar,,,,,,,,,\"\t9\n",
            "\"Bread,Milk,,,,,,,,,\"\t14\n",
            "\"Bread,Lassi,,,,,,,,,\"\t11\n",
            "\"Bread,Ghee,,,,,,,,,\"\t7\n",
            "\"Bread,CoffeePowder,,,,,,,,,\"\t9\n",
            "\"Bread,Cheese,,,,,,,,,\"\t6\n",
            "\"Bread,Butter,,,,,,,,,\"\t11\n",
            "Removing temp directory /tmp/PFP2.root.20221217.205823.699592...\n"
          ]
        }
      ]
    }
  ]
}